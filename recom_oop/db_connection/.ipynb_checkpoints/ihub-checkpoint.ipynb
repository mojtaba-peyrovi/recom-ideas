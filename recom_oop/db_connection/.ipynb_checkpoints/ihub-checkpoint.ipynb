{
 "cells": [
  {
   "cell_type": "code",
   "execution_count": 1,
   "metadata": {},
   "outputs": [],
   "source": [
    "import os\n",
    "import pymysql.cursors"
   ]
  },
  {
   "cell_type": "code",
   "execution_count": 2,
   "metadata": {},
   "outputs": [],
   "source": [
    "    ihub_db_username = os.environ.get('IHUB_DB_USERNAME')\n",
    "    ihub_db_password = os.environ.get('IHUB_DB_PASSWORD')\n",
    "    ihub_db_url = os.environ.get('IHUB_DB_URL')"
   ]
  },
  {
   "cell_type": "code",
   "execution_count": 3,
   "metadata": {},
   "outputs": [],
   "source": [
    "if ihub_db_username is None or ihub_db_password is None or ihub_db_url is None:\n",
    "    raise EnvironmentError(\n",
    "        'Missing environment variable: IHUB_DB_USERNAME, IHUB_DB_PASSWORD, IHUB_DB_URL')"
   ]
  },
  {
   "cell_type": "code",
   "execution_count": 4,
   "metadata": {},
   "outputs": [],
   "source": [
    "class iHub_engine(object):\n",
    "    def __init__(self, database_name):\n",
    "        self.connection = pymysql.connect(\n",
    "        host = ihub_db_url,\n",
    "        user = ihub_db_username, \n",
    "        password = ihub_db_password,\n",
    "        db = database_name,\n",
    "        charset = 'utf8'        \n",
    "        )"
   ]
  },
  {
   "cell_type": "code",
   "execution_count": null,
   "metadata": {},
   "outputs": [],
   "source": []
  }
 ],
 "metadata": {
  "kernelspec": {
   "display_name": "Python 3",
   "language": "python",
   "name": "python3"
  },
  "language_info": {
   "codemirror_mode": {
    "name": "ipython",
    "version": 3
   },
   "file_extension": ".py",
   "mimetype": "text/x-python",
   "name": "python",
   "nbconvert_exporter": "python",
   "pygments_lexer": "ipython3",
   "version": "3.6.5"
  }
 },
 "nbformat": 4,
 "nbformat_minor": 2
}
