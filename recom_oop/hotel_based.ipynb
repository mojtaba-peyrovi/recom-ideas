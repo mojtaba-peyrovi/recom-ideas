{
 "cells": [
  {
   "cell_type": "code",
   "execution_count": 13,
   "metadata": {},
   "outputs": [],
   "source": [
    "import db_connection.ihub as ihub\n",
    "import db_connection.alice as alice\n",
    "import pandas as pd\n",
    "import numpy as np\n",
    "from scipy.stats import norm\n",
    "import warnings"
   ]
  },
  {
   "cell_type": "code",
   "execution_count": 15,
   "metadata": {},
   "outputs": [],
   "source": [
    "warnings.filterwarnings('ignore')\n",
    "conn = ihub.iHub_engine('expedia').connection\n",
    "conn2 = alice.alice_engine('hqlive').connection"
   ]
  },
  {
   "cell_type": "code",
   "execution_count": 16,
   "metadata": {},
   "outputs": [],
   "source": [
    "try:\n",
    "    with conn2.cursor() as cursor:\n",
    "        query = \"\"\"\n",
    "            select\n",
    "            hotel_id as Hotel_ID,\n",
    "            d10_hotel_city_name as city,\n",
    "            d15_hotel_name as hotel_name,\n",
    "            hqlive.hotel.hotel_catg_id as stars,\n",
    "            d25_hotel_location_latitude as lat,\n",
    "            d26_hotel_location_longitude as lon,\n",
    "            count(distinct order_id) as booking,\n",
    "            sum(datediff(m139_offer_checkout_date, m138_offer_checkin_date)) * room_cnt as rns,\n",
    "            round(sum(c1_selling_price),0) as gbv,\n",
    "            round(sum(c1_selling_price),0) / sum(datediff(m139_offer_checkout_date, m138_offer_checkin_date)) as gbv_rns\n",
    "            from bi_export.order\n",
    "            left join hqlive.hotel\n",
    "            on 1=1\n",
    "            and bi_export.order.hotel_id = hqlive.hotel.id\n",
    "            where order.hotel_id <> -1\n",
    "            and datediff('2018-12-01', date(m01_order_datetime_gmt0)) < 30\n",
    "            and hotel_status_id = 1\n",
    "            and d22_inventory_source_code = 'HQ01'\n",
    "            group by 1,2,3,4\n",
    "            order by gbv desc\n",
    "        \"\"\"\n",
    "        cursor.execute(query)\n",
    "        conn.commit()\n",
    "        df_from_query = pd.read_sql(query, conn2)\n",
    "finally:\n",
    "        conn2.close()"
   ]
  },
  {
   "cell_type": "code",
   "execution_count": 17,
   "metadata": {},
   "outputs": [],
   "source": [
    "def get_hotel_id(url):\n",
    "    response = urllib.request.urlopen(url)        \n",
    "    response_text = response.read() \n",
    "    soup = BeautifulSoup(response_text)\n",
    "    header = soup.find(\"div\", {\"class\" : \"card-header\"}).extract()\n",
    "    header2 = str(header)\n",
    "    hotel_id = header2[header2.find(\":\") + 1:header2.find(\")\")]\n",
    "    return hotel_id"
   ]
  },
  {
   "cell_type": "code",
   "execution_count": 18,
   "metadata": {},
   "outputs": [],
   "source": [
    "hotel_link = \"http://recommendation-simulation.com/hotels/242495\""
   ]
  },
  {
   "cell_type": "code",
   "execution_count": 19,
   "metadata": {},
   "outputs": [
    {
     "ename": "NameError",
     "evalue": "name 'urllib' is not defined",
     "output_type": "error",
     "traceback": [
      "\u001b[1;31m---------------------------------------------------------------------------\u001b[0m",
      "\u001b[1;31mNameError\u001b[0m                                 Traceback (most recent call last)",
      "\u001b[1;32m<ipython-input-19-dca1d6227d87>\u001b[0m in \u001b[0;36m<module>\u001b[1;34m()\u001b[0m\n\u001b[1;32m----> 1\u001b[1;33m \u001b[0mget_hotel_id\u001b[0m\u001b[1;33m(\u001b[0m\u001b[0mhotel_link\u001b[0m\u001b[1;33m)\u001b[0m\u001b[1;33m\u001b[0m\u001b[0m\n\u001b[0m",
      "\u001b[1;32m<ipython-input-17-f53e432ff18f>\u001b[0m in \u001b[0;36mget_hotel_id\u001b[1;34m(url)\u001b[0m\n\u001b[0;32m      1\u001b[0m \u001b[1;32mdef\u001b[0m \u001b[0mget_hotel_id\u001b[0m\u001b[1;33m(\u001b[0m\u001b[0murl\u001b[0m\u001b[1;33m)\u001b[0m\u001b[1;33m:\u001b[0m\u001b[1;33m\u001b[0m\u001b[0m\n\u001b[1;32m----> 2\u001b[1;33m     \u001b[0mresponse\u001b[0m \u001b[1;33m=\u001b[0m \u001b[0murllib\u001b[0m\u001b[1;33m.\u001b[0m\u001b[0mrequest\u001b[0m\u001b[1;33m.\u001b[0m\u001b[0murlopen\u001b[0m\u001b[1;33m(\u001b[0m\u001b[0murl\u001b[0m\u001b[1;33m)\u001b[0m\u001b[1;33m\u001b[0m\u001b[0m\n\u001b[0m\u001b[0;32m      3\u001b[0m     \u001b[0mresponse_text\u001b[0m \u001b[1;33m=\u001b[0m \u001b[0mresponse\u001b[0m\u001b[1;33m.\u001b[0m\u001b[0mread\u001b[0m\u001b[1;33m(\u001b[0m\u001b[1;33m)\u001b[0m\u001b[1;33m\u001b[0m\u001b[0m\n\u001b[0;32m      4\u001b[0m     \u001b[0msoup\u001b[0m \u001b[1;33m=\u001b[0m \u001b[0mBeautifulSoup\u001b[0m\u001b[1;33m(\u001b[0m\u001b[0mresponse_text\u001b[0m\u001b[1;33m)\u001b[0m\u001b[1;33m\u001b[0m\u001b[0m\n\u001b[0;32m      5\u001b[0m     \u001b[0mheader\u001b[0m \u001b[1;33m=\u001b[0m \u001b[0msoup\u001b[0m\u001b[1;33m.\u001b[0m\u001b[0mfind\u001b[0m\u001b[1;33m(\u001b[0m\u001b[1;34m\"div\"\u001b[0m\u001b[1;33m,\u001b[0m \u001b[1;33m{\u001b[0m\u001b[1;34m\"class\"\u001b[0m \u001b[1;33m:\u001b[0m \u001b[1;34m\"card-header\"\u001b[0m\u001b[1;33m}\u001b[0m\u001b[1;33m)\u001b[0m\u001b[1;33m.\u001b[0m\u001b[0mextract\u001b[0m\u001b[1;33m(\u001b[0m\u001b[1;33m)\u001b[0m\u001b[1;33m\u001b[0m\u001b[0m\n",
      "\u001b[1;31mNameError\u001b[0m: name 'urllib' is not defined"
     ]
    }
   ],
   "source": [
    "get_hotel_id(hotel_link)"
   ]
  },
  {
   "cell_type": "code",
   "execution_count": null,
   "metadata": {},
   "outputs": [],
   "source": []
  }
 ],
 "metadata": {
  "kernelspec": {
   "display_name": "Python 3",
   "language": "python",
   "name": "python3"
  },
  "language_info": {
   "codemirror_mode": {
    "name": "ipython",
    "version": 3
   },
   "file_extension": ".py",
   "mimetype": "text/x-python",
   "name": "python",
   "nbconvert_exporter": "python",
   "pygments_lexer": "ipython3",
   "version": "3.6.5"
  }
 },
 "nbformat": 4,
 "nbformat_minor": 2
}
