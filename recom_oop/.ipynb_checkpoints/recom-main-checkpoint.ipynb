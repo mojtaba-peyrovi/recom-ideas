{
 "cells": [
  {
   "cell_type": "code",
   "execution_count": 22,
   "metadata": {},
   "outputs": [],
   "source": [
    "import db_connection.ihub as ihub\n",
    "import db_connection.alice as alice"
   ]
  },
  {
   "cell_type": "code",
   "execution_count": 23,
   "metadata": {},
   "outputs": [],
   "source": [
    "conn = ihub.iHub_engine('expedia').connection\n",
    "conn2 = alice.alice_engine('hqlive').connection"
   ]
  },
  {
   "cell_type": "code",
   "execution_count": 24,
   "metadata": {},
   "outputs": [],
   "source": [
    "try:\n",
    "    with conn2.cursor() as cursor:\n",
    "        query = \"\"\"\n",
    "            select * from hotel limit 5\n",
    "        \"\"\"\n",
    "        cursor.execute(query)\n",
    "        conn.commit()\n",
    "        results = cursor.fetchall()\n",
    "finally:\n",
    "        conn2.close()"
   ]
  },
  {
   "cell_type": "raw",
   "metadata": {},
   "source": []
  }
 ],
 "metadata": {
  "kernelspec": {
   "display_name": "Python 3",
   "language": "python",
   "name": "python3"
  },
  "language_info": {
   "codemirror_mode": {
    "name": "ipython",
    "version": 3
   },
   "file_extension": ".py",
   "mimetype": "text/x-python",
   "name": "python",
   "nbconvert_exporter": "python",
   "pygments_lexer": "ipython3",
   "version": "3.6.5"
  }
 },
 "nbformat": 4,
 "nbformat_minor": 2
}
