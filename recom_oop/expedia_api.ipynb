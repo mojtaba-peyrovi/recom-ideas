{
 "cells": [
  {
   "cell_type": "code",
   "execution_count": 21,
   "metadata": {},
   "outputs": [],
   "source": [
    "import logging\n",
    "import requests\n",
    "import hashlib\n",
    "import time\n",
    "import hotel as HotelModel"
   ]
  },
  {
   "cell_type": "code",
   "execution_count": 15,
   "metadata": {},
   "outputs": [],
   "source": [
    "hotel_id = '242495'"
   ]
  },
  {
   "cell_type": "code",
   "execution_count": 18,
   "metadata": {},
   "outputs": [],
   "source": [
    "def signature(api_key, secret_key):\n",
    "    curr_time = str(int(time.time()))\n",
    "    cid = api_key + secret_key + curr_time\n",
    "    h = hashlib.md5(cid.encode('utf-8')).hexdigest()\n",
    "    return h"
   ]
  },
  {
   "cell_type": "code",
   "execution_count": 23,
   "metadata": {},
   "outputs": [],
   "source": [
    "def request_hotel_information(hotel_id):\n",
    "    api_key = \"cq6aggemwh8vtkpe7ub93k2e\"\n",
    "    secret_key = \"qSKBwn6M\"\n",
    "    cid = \"440823\"\n",
    "    minor_rev = \"30\"\n",
    "    supplier_type = \"E\"\n",
    "    \n",
    "    logging.info('hotel_id: {}'.format(hotel_id))\n",
    "    \n",
    "    data = {\"cid\": cid, \"apiKey\": api_key, \"sig\": signature(api_key, secret_key), \"minorRev\": minor_rev,\n",
    "           \"SupplierType\": supplier_type, \"hotelId\": hotel_id}\n",
    "    resp = requests.get('http://api.ean.com/ean-services/rs/hotel/v3/info',\n",
    "                        params = data)\n",
    "    hotel = HotelModel.HotelTable()\n",
    "    hotel.parse_json(resp.content.decode('latin-1'))\n",
    "    if hotel is None:\n",
    "        logging.warn('Cannot request hotel id: {}'.format(hotel_id))\n",
    "    return hotel"
   ]
  },
  {
   "cell_type": "code",
   "execution_count": 24,
   "metadata": {},
   "outputs": [
    {
     "name": "stderr",
     "output_type": "stream",
     "text": [
      "WARNING:root:message: TravelNow.com cannot service this request.\n",
      "WARNING:root:message: Authentication failure.  (cid=440823; ipAddress=110.49.36.178; sig=8d203e68da9d38bc92dcd7d090c55261; time=1549862674; server=89)\n"
     ]
    },
    {
     "data": {
      "text/plain": [
       "<hotel.HotelTable at 0x5149990>"
      ]
     },
     "execution_count": 24,
     "metadata": {},
     "output_type": "execute_result"
    }
   ],
   "source": [
    "request_hotel_information(hotel_id)"
   ]
  },
  {
   "cell_type": "code",
   "execution_count": null,
   "metadata": {},
   "outputs": [],
   "source": []
  }
 ],
 "metadata": {
  "kernelspec": {
   "display_name": "Python 3",
   "language": "python",
   "name": "python3"
  },
  "language_info": {
   "codemirror_mode": {
    "name": "ipython",
    "version": 3
   },
   "file_extension": ".py",
   "mimetype": "text/x-python",
   "name": "python",
   "nbconvert_exporter": "python",
   "pygments_lexer": "ipython3",
   "version": "3.6.5"
  }
 },
 "nbformat": 4,
 "nbformat_minor": 2
}
