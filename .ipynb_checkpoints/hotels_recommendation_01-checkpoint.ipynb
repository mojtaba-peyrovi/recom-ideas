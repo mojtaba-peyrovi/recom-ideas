{
 "cells": [
  {
   "cell_type": "code",
   "execution_count": 1,
   "metadata": {},
   "outputs": [],
   "source": [
    "import pandas as pd"
   ]
  },
  {
   "cell_type": "code",
   "execution_count": 3,
   "metadata": {},
   "outputs": [],
   "source": [
    "df = pd.read_csv('hotels_recommendation_01.csv')"
   ]
  },
  {
   "cell_type": "code",
   "execution_count": 4,
   "metadata": {},
   "outputs": [
    {
     "data": {
      "text/html": [
       "<div>\n",
       "<style scoped>\n",
       "    .dataframe tbody tr th:only-of-type {\n",
       "        vertical-align: middle;\n",
       "    }\n",
       "\n",
       "    .dataframe tbody tr th {\n",
       "        vertical-align: top;\n",
       "    }\n",
       "\n",
       "    .dataframe thead th {\n",
       "        text-align: right;\n",
       "    }\n",
       "</style>\n",
       "<table border=\"1\" class=\"dataframe\">\n",
       "  <thead>\n",
       "    <tr style=\"text-align: right;\">\n",
       "      <th></th>\n",
       "      <th>Hotel_ID</th>\n",
       "      <th>City</th>\n",
       "      <th>Hotel_Name</th>\n",
       "      <th>lat</th>\n",
       "      <th>lon</th>\n",
       "      <th>order_count_trivago</th>\n",
       "      <th>order_count_tripadvisor</th>\n",
       "      <th>order_count_others</th>\n",
       "      <th>Orders</th>\n",
       "      <th>RNS</th>\n",
       "      <th>GBV</th>\n",
       "    </tr>\n",
       "  </thead>\n",
       "  <tbody>\n",
       "    <tr>\n",
       "      <th>0</th>\n",
       "      <td>242495</td>\n",
       "      <td>Boston</td>\n",
       "      <td>The Godfrey Hotel Boston</td>\n",
       "      <td>42.354662</td>\n",
       "      <td>-71.061475</td>\n",
       "      <td>1111</td>\n",
       "      <td>414</td>\n",
       "      <td>42</td>\n",
       "      <td>1566</td>\n",
       "      <td>2666</td>\n",
       "      <td>668336</td>\n",
       "    </tr>\n",
       "    <tr>\n",
       "      <th>1</th>\n",
       "      <td>54598</td>\n",
       "      <td>Las Vegas</td>\n",
       "      <td>Westgate Las Vegas Resort &amp; Casino</td>\n",
       "      <td>36.135996</td>\n",
       "      <td>-115.151513</td>\n",
       "      <td>4411</td>\n",
       "      <td>402</td>\n",
       "      <td>153</td>\n",
       "      <td>4954</td>\n",
       "      <td>11602</td>\n",
       "      <td>650169</td>\n",
       "    </tr>\n",
       "    <tr>\n",
       "      <th>2</th>\n",
       "      <td>53233</td>\n",
       "      <td>New York</td>\n",
       "      <td>Lotte New York Palace</td>\n",
       "      <td>40.758005</td>\n",
       "      <td>-73.974983</td>\n",
       "      <td>652</td>\n",
       "      <td>1</td>\n",
       "      <td>34</td>\n",
       "      <td>686</td>\n",
       "      <td>1444</td>\n",
       "      <td>508374</td>\n",
       "    </tr>\n",
       "    <tr>\n",
       "      <th>3</th>\n",
       "      <td>16772</td>\n",
       "      <td>Gold Coast</td>\n",
       "      <td>Mantra Twin Towns</td>\n",
       "      <td>-28.168778</td>\n",
       "      <td>153.542853</td>\n",
       "      <td>1537</td>\n",
       "      <td>131</td>\n",
       "      <td>130</td>\n",
       "      <td>1795</td>\n",
       "      <td>4047</td>\n",
       "      <td>484703</td>\n",
       "    </tr>\n",
       "    <tr>\n",
       "      <th>4</th>\n",
       "      <td>60785</td>\n",
       "      <td>Honolulu</td>\n",
       "      <td>Ala Moana by Luxury Suites International</td>\n",
       "      <td>21.290191</td>\n",
       "      <td>-157.839680</td>\n",
       "      <td>384</td>\n",
       "      <td>470</td>\n",
       "      <td>84</td>\n",
       "      <td>936</td>\n",
       "      <td>2370</td>\n",
       "      <td>426940</td>\n",
       "    </tr>\n",
       "  </tbody>\n",
       "</table>\n",
       "</div>"
      ],
      "text/plain": [
       "   Hotel_ID        City                                Hotel_Name        lat  \\\n",
       "0    242495      Boston                  The Godfrey Hotel Boston  42.354662   \n",
       "1     54598   Las Vegas        Westgate Las Vegas Resort & Casino  36.135996   \n",
       "2     53233    New York                     Lotte New York Palace  40.758005   \n",
       "3     16772  Gold Coast                         Mantra Twin Towns -28.168778   \n",
       "4     60785    Honolulu  Ala Moana by Luxury Suites International  21.290191   \n",
       "\n",
       "          lon  order_count_trivago  order_count_tripadvisor  \\\n",
       "0  -71.061475                 1111                      414   \n",
       "1 -115.151513                 4411                      402   \n",
       "2  -73.974983                  652                        1   \n",
       "3  153.542853                 1537                      131   \n",
       "4 -157.839680                  384                      470   \n",
       "\n",
       "   order_count_others  Orders    RNS     GBV  \n",
       "0                  42    1566   2666  668336  \n",
       "1                 153    4954  11602  650169  \n",
       "2                  34     686   1444  508374  \n",
       "3                 130    1795   4047  484703  \n",
       "4                  84     936   2370  426940  "
      ]
     },
     "execution_count": 4,
     "metadata": {},
     "output_type": "execute_result"
    }
   ],
   "source": [
    "df.head()"
   ]
  },
  {
   "cell_type": "code",
   "execution_count": 11,
   "metadata": {},
   "outputs": [],
   "source": [
    "similarHotels = df.corrwith(df[0:])\n",
    "\n"
   ]
  },
  {
   "cell_type": "code",
   "execution_count": null,
   "metadata": {},
   "outputs": [],
   "source": []
  }
 ],
 "metadata": {
  "kernelspec": {
   "display_name": "Python 3",
   "language": "python",
   "name": "python3"
  },
  "language_info": {
   "codemirror_mode": {
    "name": "ipython",
    "version": 3
   },
   "file_extension": ".py",
   "mimetype": "text/x-python",
   "name": "python",
   "nbconvert_exporter": "python",
   "pygments_lexer": "ipython3",
   "version": "3.6.5"
  }
 },
 "nbformat": 4,
 "nbformat_minor": 2
}
