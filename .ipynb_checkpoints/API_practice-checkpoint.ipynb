{
 "cells": [
  {
   "cell_type": "code",
   "execution_count": 12,
   "metadata": {},
   "outputs": [],
   "source": [
    "import os\n",
    "import json\n",
    "import requests"
   ]
  },
  {
   "cell_type": "code",
   "execution_count": 13,
   "metadata": {},
   "outputs": [],
   "source": [
    "def parse_data(symbol):\n",
    "    params = {\"symbol\": symbol}    \n",
    "    api_key = os.environ.get(\"MY_CMC_API_KEY\")\n",
    "    headers = {\"X-CMC_PRO_API_KEY\": api_key}\n",
    "    url = \"https://pro-api.coinmarketcap.com/v1/cryptocurrency/quotes/latest\"    \n",
    "    resp = requests.get(url, params = params, headers= headers)  \n",
    "    return resp.json()"
   ]
  },
  {
   "cell_type": "code",
   "execution_count": 14,
   "metadata": {},
   "outputs": [],
   "source": [
    "results = parse_data(\"OMG\")"
   ]
  },
  {
   "cell_type": "code",
   "execution_count": 15,
   "metadata": {},
   "outputs": [
    {
     "name": "stdout",
     "output_type": "stream",
     "text": [
      "{\n",
      "  \"status\": {\n",
      "    \"timestamp\": \"2019-02-15T23:49:50.017Z\",\n",
      "    \"error_code\": 0,\n",
      "    \"error_message\": null,\n",
      "    \"elapsed\": 7,\n",
      "    \"credit_count\": 1\n",
      "  },\n",
      "  \"data\": {\n",
      "    \"OMG\": {\n",
      "      \"id\": 1808,\n",
      "      \"name\": \"OmiseGO\",\n",
      "      \"symbol\": \"OMG\",\n",
      "      \"slug\": \"omisego\",\n",
      "      \"circulating_supply\": 140245398.245133,\n",
      "      \"total_supply\": 140245398.245133,\n",
      "      \"max_supply\": null,\n",
      "      \"date_added\": \"2017-07-14T00:00:00.000Z\",\n",
      "      \"num_market_pairs\": 154,\n",
      "      \"tags\": [],\n",
      "      \"platform\": {\n",
      "        \"id\": 1027,\n",
      "        \"name\": \"Ethereum\",\n",
      "        \"symbol\": \"ETH\",\n",
      "        \"slug\": \"ethereum\",\n",
      "        \"token_address\": \"0xd26114cd6EE289AccF82350c8d8487fedB8A0C07\"\n",
      "      },\n",
      "      \"cmc_rank\": 31,\n",
      "      \"last_updated\": \"2019-02-15T23:49:05.000Z\",\n",
      "      \"quote\": {\n",
      "        \"USD\": {\n",
      "          \"price\": 1.13782020543,\n",
      "          \"volume_24h\": 32986105.54048,\n",
      "          \"percent_change_1h\": 0.0521592,\n",
      "          \"percent_change_24h\": 1.04066,\n",
      "          \"percent_change_7d\": 0.274914,\n",
      "          \"market_cap\": 159574047.8418894,\n",
      "          \"last_updated\": \"2019-02-15T23:49:05.000Z\"\n",
      "        }\n",
      "      }\n",
      "    }\n",
      "  }\n",
      "}\n"
     ]
    }
   ],
   "source": [
    "print(json.dumps(results, indent=2))"
   ]
  }
 ],
 "metadata": {
  "kernelspec": {
   "display_name": "Python 3",
   "language": "python",
   "name": "python3"
  },
  "language_info": {
   "codemirror_mode": {
    "name": "ipython",
    "version": 3
   },
   "file_extension": ".py",
   "mimetype": "text/x-python",
   "name": "python",
   "nbconvert_exporter": "python",
   "pygments_lexer": "ipython3",
   "version": "3.6.5"
  }
 },
 "nbformat": 4,
 "nbformat_minor": 2
}
